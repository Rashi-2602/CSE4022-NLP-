{
 "cells": [
  {
   "cell_type": "markdown",
   "id": "7dcafbf1",
   "metadata": {},
   "source": [
    "# Task#1 : Simple Text Classification"
   ]
  },
  {
   "cell_type": "code",
   "execution_count": 1,
   "id": "183a94cd",
   "metadata": {},
   "outputs": [],
   "source": [
    "def gender_features(word):\n",
    "    return {'last_letter': word}"
   ]
  },
  {
   "cell_type": "code",
   "execution_count": 2,
   "id": "6f5e9bcb",
   "metadata": {},
   "outputs": [
    {
     "data": {
      "text/plain": [
       "{'last_letter': 'Rashi'}"
      ]
     },
     "execution_count": 2,
     "metadata": {},
     "output_type": "execute_result"
    }
   ],
   "source": [
    "gender_features('Rashi')"
   ]
  },
  {
   "cell_type": "code",
   "execution_count": 3,
   "id": "3ca20219",
   "metadata": {},
   "outputs": [],
   "source": [
    "from nltk.corpus import names"
   ]
  },
  {
   "cell_type": "code",
   "execution_count": 4,
   "id": "6e78ef8f",
   "metadata": {},
   "outputs": [],
   "source": [
    "labeled_names = ([(name, 'male') for name in names.words('male.txt')] + [(name, 'female') for name in names.words('female.txt')])"
   ]
  },
  {
   "cell_type": "code",
   "execution_count": 5,
   "id": "4ee87b90",
   "metadata": {},
   "outputs": [],
   "source": [
    "import random\n",
    "random.shuffle(labeled_names)"
   ]
  },
  {
   "cell_type": "code",
   "execution_count": 6,
   "id": "4e903a0d",
   "metadata": {},
   "outputs": [],
   "source": [
    "featuresets = [(gender_features(n), gender) for (n, gender) in labeled_names]"
   ]
  },
  {
   "cell_type": "code",
   "execution_count": 7,
   "id": "59172454",
   "metadata": {},
   "outputs": [],
   "source": [
    "train_set, test_test = featuresets[500:], featuresets[:500]"
   ]
  },
  {
   "cell_type": "code",
   "execution_count": 8,
   "id": "ac5e555c",
   "metadata": {},
   "outputs": [],
   "source": [
    "import nltk\n",
    "classifier = nltk.NaiveBayesClassifier.train(train_set)"
   ]
  },
  {
   "cell_type": "code",
   "execution_count": 9,
   "id": "0d93e146",
   "metadata": {},
   "outputs": [
    {
     "data": {
      "text/plain": [
       "'female'"
      ]
     },
     "execution_count": 9,
     "metadata": {},
     "output_type": "execute_result"
    }
   ],
   "source": [
    "classifier.classify(gender_features('David'))"
   ]
  },
  {
   "cell_type": "code",
   "execution_count": 10,
   "id": "9b17ceb0",
   "metadata": {},
   "outputs": [
    {
     "data": {
      "text/plain": [
       "'female'"
      ]
     },
     "execution_count": 10,
     "metadata": {},
     "output_type": "execute_result"
    }
   ],
   "source": [
    "classifier.classify(gender_features('Saumya'))"
   ]
  },
  {
   "cell_type": "code",
   "execution_count": 11,
   "id": "6c2d9cda",
   "metadata": {},
   "outputs": [
    {
     "data": {
      "text/plain": [
       "'female'"
      ]
     },
     "execution_count": 11,
     "metadata": {},
     "output_type": "execute_result"
    }
   ],
   "source": [
    "classifier.classify(gender_features('Obama'))"
   ]
  },
  {
   "cell_type": "code",
   "execution_count": 12,
   "id": "5251fe88",
   "metadata": {},
   "outputs": [
    {
     "name": "stdout",
     "output_type": "stream",
     "text": [
      "0.602\n"
     ]
    }
   ],
   "source": [
    "print(nltk.classify.accuracy(classifier, test_test))"
   ]
  },
  {
   "cell_type": "markdown",
   "id": "3fdf9fae",
   "metadata": {},
   "source": [
    "# Task#2 : Tweet Tokenizer"
   ]
  },
  {
   "cell_type": "code",
   "execution_count": 13,
   "id": "50567449",
   "metadata": {},
   "outputs": [
    {
     "data": {
      "text/plain": [
       "['The', 'Party', 'was', 'soooo', 'fun', '🤩', '#superfun']"
      ]
     },
     "execution_count": 13,
     "metadata": {},
     "output_type": "execute_result"
    }
   ],
   "source": [
    "import nltk\n",
    "from nltk.tokenize import TweetTokenizer\n",
    "text = 'The Party was soooo fun 🤩 #superfun'\n",
    "twtkn = TweetTokenizer()\n",
    "twtkn.tokenize(text)"
   ]
  },
  {
   "cell_type": "code",
   "execution_count": null,
   "id": "23e4bfb5",
   "metadata": {},
   "outputs": [],
   "source": [
    "# Task#3 \n",
    "# 3. Explore COCA :\n",
    "#  Demonstrate any 3 of the 5 features\n",
    "#  3.1 Find the frequency count of a word\n",
    "#  3.2 Chart - word - frequency; section; sub-section; year\n",
    "#  3.3 Collocate - Display 3 collocations on the left and right each of the word\n",
    "# histogram - translate to English (4 lines)"
   ]
  },
  {
   "cell_type": "code",
   "execution_count": null,
   "id": "8ce74f30",
   "metadata": {},
   "outputs": [],
   "source": []
  }
 ],
 "metadata": {
  "kernelspec": {
   "display_name": "Python 3 (ipykernel)",
   "language": "python",
   "name": "python3"
  },
  "language_info": {
   "codemirror_mode": {
    "name": "ipython",
    "version": 3
   },
   "file_extension": ".py",
   "mimetype": "text/x-python",
   "name": "python",
   "nbconvert_exporter": "python",
   "pygments_lexer": "ipython3",
   "version": "3.9.13"
  }
 },
 "nbformat": 4,
 "nbformat_minor": 5
}
